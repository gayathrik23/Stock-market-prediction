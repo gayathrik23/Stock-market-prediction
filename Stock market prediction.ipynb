{
 "cells": [
  {
   "cell_type": "code",
   "execution_count": 6,
   "id": "dcc692a3",
   "metadata": {},
   "outputs": [],
   "source": [
    "import pandas as pd\n",
    "import numpy as np\n",
    "from matplotlib import pyplot as plt\n",
    "import seaborn as sn"
   ]
  },
  {
   "cell_type": "code",
   "execution_count": 7,
   "id": "eb10832e",
   "metadata": {},
   "outputs": [],
   "source": [
    "stock=pd.read_csv('stock.csv')"
   ]
  },
  {
   "cell_type": "code",
   "execution_count": 8,
   "id": "1ce3fc64",
   "metadata": {},
   "outputs": [
    {
     "data": {
      "text/html": [
       "<div>\n",
       "<style scoped>\n",
       "    .dataframe tbody tr th:only-of-type {\n",
       "        vertical-align: middle;\n",
       "    }\n",
       "\n",
       "    .dataframe tbody tr th {\n",
       "        vertical-align: top;\n",
       "    }\n",
       "\n",
       "    .dataframe thead th {\n",
       "        text-align: right;\n",
       "    }\n",
       "</style>\n",
       "<table border=\"1\" class=\"dataframe\">\n",
       "  <thead>\n",
       "    <tr style=\"text-align: right;\">\n",
       "      <th></th>\n",
       "      <th>Date</th>\n",
       "      <th>Open</th>\n",
       "      <th>High</th>\n",
       "      <th>Low</th>\n",
       "      <th>Last</th>\n",
       "      <th>Close</th>\n",
       "      <th>Total Trade Quantity</th>\n",
       "      <th>Turnover (Lacs)</th>\n",
       "    </tr>\n",
       "  </thead>\n",
       "  <tbody>\n",
       "    <tr>\n",
       "      <th>0</th>\n",
       "      <td>2018-09-28</td>\n",
       "      <td>234.05</td>\n",
       "      <td>235.95</td>\n",
       "      <td>230.20</td>\n",
       "      <td>233.50</td>\n",
       "      <td>233.75</td>\n",
       "      <td>3069914</td>\n",
       "      <td>7162.35</td>\n",
       "    </tr>\n",
       "    <tr>\n",
       "      <th>1</th>\n",
       "      <td>2018-09-27</td>\n",
       "      <td>234.55</td>\n",
       "      <td>236.80</td>\n",
       "      <td>231.10</td>\n",
       "      <td>233.80</td>\n",
       "      <td>233.25</td>\n",
       "      <td>5082859</td>\n",
       "      <td>11859.95</td>\n",
       "    </tr>\n",
       "    <tr>\n",
       "      <th>2</th>\n",
       "      <td>2018-09-26</td>\n",
       "      <td>240.00</td>\n",
       "      <td>240.00</td>\n",
       "      <td>232.50</td>\n",
       "      <td>235.00</td>\n",
       "      <td>234.25</td>\n",
       "      <td>2240909</td>\n",
       "      <td>5248.60</td>\n",
       "    </tr>\n",
       "    <tr>\n",
       "      <th>3</th>\n",
       "      <td>2018-09-25</td>\n",
       "      <td>233.30</td>\n",
       "      <td>236.75</td>\n",
       "      <td>232.00</td>\n",
       "      <td>236.25</td>\n",
       "      <td>236.10</td>\n",
       "      <td>2349368</td>\n",
       "      <td>5503.90</td>\n",
       "    </tr>\n",
       "    <tr>\n",
       "      <th>4</th>\n",
       "      <td>2018-09-24</td>\n",
       "      <td>233.55</td>\n",
       "      <td>239.20</td>\n",
       "      <td>230.75</td>\n",
       "      <td>234.00</td>\n",
       "      <td>233.30</td>\n",
       "      <td>3423509</td>\n",
       "      <td>7999.55</td>\n",
       "    </tr>\n",
       "  </tbody>\n",
       "</table>\n",
       "</div>"
      ],
      "text/plain": [
       "         Date    Open    High     Low    Last   Close  Total Trade Quantity  \\\n",
       "0  2018-09-28  234.05  235.95  230.20  233.50  233.75               3069914   \n",
       "1  2018-09-27  234.55  236.80  231.10  233.80  233.25               5082859   \n",
       "2  2018-09-26  240.00  240.00  232.50  235.00  234.25               2240909   \n",
       "3  2018-09-25  233.30  236.75  232.00  236.25  236.10               2349368   \n",
       "4  2018-09-24  233.55  239.20  230.75  234.00  233.30               3423509   \n",
       "\n",
       "   Turnover (Lacs)  \n",
       "0          7162.35  \n",
       "1         11859.95  \n",
       "2          5248.60  \n",
       "3          5503.90  \n",
       "4          7999.55  "
      ]
     },
     "execution_count": 8,
     "metadata": {},
     "output_type": "execute_result"
    }
   ],
   "source": [
    "stock.head()"
   ]
  },
  {
   "cell_type": "code",
   "execution_count": 9,
   "id": "96963d18",
   "metadata": {},
   "outputs": [
    {
     "name": "stdout",
     "output_type": "stream",
     "text": [
      "<class 'pandas.core.frame.DataFrame'>\n",
      "RangeIndex: 2035 entries, 0 to 2034\n",
      "Data columns (total 8 columns):\n",
      " #   Column                Non-Null Count  Dtype  \n",
      "---  ------                --------------  -----  \n",
      " 0   Date                  2035 non-null   object \n",
      " 1   Open                  2035 non-null   float64\n",
      " 2   High                  2035 non-null   float64\n",
      " 3   Low                   2035 non-null   float64\n",
      " 4   Last                  2035 non-null   float64\n",
      " 5   Close                 2035 non-null   float64\n",
      " 6   Total Trade Quantity  2035 non-null   int64  \n",
      " 7   Turnover (Lacs)       2035 non-null   float64\n",
      "dtypes: float64(6), int64(1), object(1)\n",
      "memory usage: 127.3+ KB\n"
     ]
    }
   ],
   "source": [
    "stock.info()"
   ]
  },
  {
   "cell_type": "code",
   "execution_count": 10,
   "id": "0f0280a7",
   "metadata": {},
   "outputs": [
    {
     "data": {
      "text/html": [
       "<div>\n",
       "<style scoped>\n",
       "    .dataframe tbody tr th:only-of-type {\n",
       "        vertical-align: middle;\n",
       "    }\n",
       "\n",
       "    .dataframe tbody tr th {\n",
       "        vertical-align: top;\n",
       "    }\n",
       "\n",
       "    .dataframe thead th {\n",
       "        text-align: right;\n",
       "    }\n",
       "</style>\n",
       "<table border=\"1\" class=\"dataframe\">\n",
       "  <thead>\n",
       "    <tr style=\"text-align: right;\">\n",
       "      <th></th>\n",
       "      <th>Open</th>\n",
       "      <th>High</th>\n",
       "      <th>Low</th>\n",
       "      <th>Last</th>\n",
       "      <th>Close</th>\n",
       "      <th>Total Trade Quantity</th>\n",
       "      <th>Turnover (Lacs)</th>\n",
       "    </tr>\n",
       "  </thead>\n",
       "  <tbody>\n",
       "    <tr>\n",
       "      <th>count</th>\n",
       "      <td>2035.000000</td>\n",
       "      <td>2035.000000</td>\n",
       "      <td>2035.000000</td>\n",
       "      <td>2035.000000</td>\n",
       "      <td>2035.00000</td>\n",
       "      <td>2.035000e+03</td>\n",
       "      <td>2035.000000</td>\n",
       "    </tr>\n",
       "    <tr>\n",
       "      <th>mean</th>\n",
       "      <td>149.713735</td>\n",
       "      <td>151.992826</td>\n",
       "      <td>147.293931</td>\n",
       "      <td>149.474251</td>\n",
       "      <td>149.45027</td>\n",
       "      <td>2.335681e+06</td>\n",
       "      <td>3899.980565</td>\n",
       "    </tr>\n",
       "    <tr>\n",
       "      <th>std</th>\n",
       "      <td>48.664509</td>\n",
       "      <td>49.413109</td>\n",
       "      <td>47.931958</td>\n",
       "      <td>48.732570</td>\n",
       "      <td>48.71204</td>\n",
       "      <td>2.091778e+06</td>\n",
       "      <td>4570.767877</td>\n",
       "    </tr>\n",
       "    <tr>\n",
       "      <th>min</th>\n",
       "      <td>81.100000</td>\n",
       "      <td>82.800000</td>\n",
       "      <td>80.000000</td>\n",
       "      <td>81.000000</td>\n",
       "      <td>80.95000</td>\n",
       "      <td>3.961000e+04</td>\n",
       "      <td>37.040000</td>\n",
       "    </tr>\n",
       "    <tr>\n",
       "      <th>25%</th>\n",
       "      <td>120.025000</td>\n",
       "      <td>122.100000</td>\n",
       "      <td>118.300000</td>\n",
       "      <td>120.075000</td>\n",
       "      <td>120.05000</td>\n",
       "      <td>1.146444e+06</td>\n",
       "      <td>1427.460000</td>\n",
       "    </tr>\n",
       "    <tr>\n",
       "      <th>50%</th>\n",
       "      <td>141.500000</td>\n",
       "      <td>143.400000</td>\n",
       "      <td>139.600000</td>\n",
       "      <td>141.100000</td>\n",
       "      <td>141.25000</td>\n",
       "      <td>1.783456e+06</td>\n",
       "      <td>2512.030000</td>\n",
       "    </tr>\n",
       "    <tr>\n",
       "      <th>75%</th>\n",
       "      <td>157.175000</td>\n",
       "      <td>159.400000</td>\n",
       "      <td>155.150000</td>\n",
       "      <td>156.925000</td>\n",
       "      <td>156.90000</td>\n",
       "      <td>2.813594e+06</td>\n",
       "      <td>4539.015000</td>\n",
       "    </tr>\n",
       "    <tr>\n",
       "      <th>max</th>\n",
       "      <td>327.700000</td>\n",
       "      <td>328.750000</td>\n",
       "      <td>321.650000</td>\n",
       "      <td>325.950000</td>\n",
       "      <td>325.75000</td>\n",
       "      <td>2.919102e+07</td>\n",
       "      <td>55755.080000</td>\n",
       "    </tr>\n",
       "  </tbody>\n",
       "</table>\n",
       "</div>"
      ],
      "text/plain": [
       "              Open         High          Low         Last       Close  \\\n",
       "count  2035.000000  2035.000000  2035.000000  2035.000000  2035.00000   \n",
       "mean    149.713735   151.992826   147.293931   149.474251   149.45027   \n",
       "std      48.664509    49.413109    47.931958    48.732570    48.71204   \n",
       "min      81.100000    82.800000    80.000000    81.000000    80.95000   \n",
       "25%     120.025000   122.100000   118.300000   120.075000   120.05000   \n",
       "50%     141.500000   143.400000   139.600000   141.100000   141.25000   \n",
       "75%     157.175000   159.400000   155.150000   156.925000   156.90000   \n",
       "max     327.700000   328.750000   321.650000   325.950000   325.75000   \n",
       "\n",
       "       Total Trade Quantity  Turnover (Lacs)  \n",
       "count          2.035000e+03      2035.000000  \n",
       "mean           2.335681e+06      3899.980565  \n",
       "std            2.091778e+06      4570.767877  \n",
       "min            3.961000e+04        37.040000  \n",
       "25%            1.146444e+06      1427.460000  \n",
       "50%            1.783456e+06      2512.030000  \n",
       "75%            2.813594e+06      4539.015000  \n",
       "max            2.919102e+07     55755.080000  "
      ]
     },
     "execution_count": 10,
     "metadata": {},
     "output_type": "execute_result"
    }
   ],
   "source": [
    "stock.describe()"
   ]
  },
  {
   "cell_type": "code",
   "execution_count": 11,
   "id": "6950a133",
   "metadata": {},
   "outputs": [
    {
     "data": {
      "text/plain": [
       "Text(0, 0.5, 'Close')"
      ]
     },
     "execution_count": 11,
     "metadata": {},
     "output_type": "execute_result"
    },
    {
     "data": {
      "image/png": "[encoded data removed]",
      "text/plain": [
       "<Figure size 648x432 with 1 Axes>"
      ]
     },
     "metadata": {
      "needs_background": "light"
     },
     "output_type": "display_data"
    }
   ],
   "source": [
    "fif,ax=plt.subplots(figsize = (9,6))\n",
    "plt.title(' Stocks Closing Price')\n",
    "plt.plot(stock['Close'],'b')\n",
    "plt.xlabel('Date',fontsize=15)\n",
    "plt.ylabel('Close',fontsize=15)"
   ]
  },
  {
   "cell_type": "code",
   "execution_count": 12,
   "id": "1132e493",
   "metadata": {},
   "outputs": [],
   "source": [
    "smp=stock.reset_index()['Close']"
   ]
  },
  {
   "cell_type": "code",
   "execution_count": 13,
   "id": "6159c2d9",
   "metadata": {},
   "outputs": [
    {
     "data": {
      "text/plain": [
       "0       233.75\n",
       "1       233.25\n",
       "2       234.25\n",
       "3       236.10\n",
       "4       233.30\n",
       "         ...  \n",
       "2030    118.65\n",
       "2031    117.60\n",
       "2032    120.65\n",
       "2033    120.90\n",
       "2034    121.55\n",
       "Name: Close, Length: 2035, dtype: float64"
      ]
     },
     "execution_count": 13,
     "metadata": {},
     "output_type": "execute_result"
    }
   ],
   "source": [
    "smp"
   ]
  },
  {
   "cell_type": "code",
   "execution_count": 14,
   "id": "e3339cde",
   "metadata": {},
   "outputs": [
    {
     "data": {
      "text/plain": [
       "[<matplotlib.lines.Line2D at 0x1ed219e1940>]"
      ]
     },
     "execution_count": 14,
     "metadata": {},
     "output_type": "execute_result"
    },
    {
     "data": {
      "image/png": "[encoded data removed]",
      "text/plain": [
       "<Figure size 432x288 with 1 Axes>"
      ]
     },
     "metadata": {
      "needs_background": "light"
     },
     "output_type": "display_data"
    }
   ],
   "source": [
    "import matplotlib.pyplot as plt\n",
    "plt.plot(smp)"
   ]
  },
  {
   "cell_type": "code",
   "execution_count": null,
   "id": "26fd9291",
   "metadata": {},
   "outputs": [],
   "source": [
    "# LSTM are sensitive to the scale of the data. so we apply MinMax scaler "
   ]
  },
  {
   "cell_type": "code",
   "execution_count": 15,
   "id": "7bbd7843",
   "metadata": {},
   "outputs": [],
   "source": [
    "from sklearn.preprocessing import MinMaxScaler\n",
    "scaler=MinMaxScaler(feature_range=(0,1))\n",
    "smp=scaler.fit_transform(np.array(smp).reshape(-1,1))"
   ]
  },
  {
   "cell_type": "code",
   "execution_count": 16,
   "id": "850972e4",
   "metadata": {},
   "outputs": [
    {
     "name": "stdout",
     "output_type": "stream",
     "text": [
      "[[0.62418301]\n",
      " [0.62214052]\n",
      " [0.62622549]\n",
      " ...\n",
      " [0.1621732 ]\n",
      " [0.16319444]\n",
      " [0.16584967]]\n"
     ]
    }
   ],
   "source": [
    "print(smp)"
   ]
  },
  {
   "cell_type": "code",
   "execution_count": null,
   "id": "8244be14",
   "metadata": {},
   "outputs": [],
   "source": [
    "#splitting the data set into train and test sets\n"
   ]
  },
  {
   "cell_type": "code",
   "execution_count": 17,
   "id": "f7ebe9b6",
   "metadata": {},
   "outputs": [],
   "source": [
    "training_size=int(len(smp)*0.65)\n",
    "test_size=len(smp)-training_size\n",
    "train_data,test_data=smp[0:training_size,:],smp[training_size:len(smp),:1]"
   ]
  },
  {
   "cell_type": "code",
   "execution_count": 18,
   "id": "70566319",
   "metadata": {},
   "outputs": [
    {
     "data": {
      "text/plain": [
       "(1322, 713)"
      ]
     },
     "execution_count": 18,
     "metadata": {},
     "output_type": "execute_result"
    }
   ],
   "source": [
    "training_size,test_size"
   ]
  },
  {
   "cell_type": "code",
   "execution_count": 19,
   "id": "02503b15",
   "metadata": {},
   "outputs": [
    {
     "data": {
      "text/plain": [
       "array([[0.62418301],\n",
       "       [0.62214052],\n",
       "       [0.62622549],\n",
       "       ...,\n",
       "       [0.25347222],\n",
       "       [0.26041667],\n",
       "       [0.2563317 ]])"
      ]
     },
     "execution_count": 19,
     "metadata": {},
     "output_type": "execute_result"
    }
   ],
   "source": [
    "train_data"
   ]
  },
  {
   "cell_type": "code",
   "execution_count": 20,
   "id": "cfea35d8",
   "metadata": {},
   "outputs": [],
   "source": [
    "import numpy\n",
    "# convert an array of values into a dataset matrix\n",
    "def create_dataset(dataset, time_step=1):\n",
    "    dataX, dataY = [], []\n",
    "    for i in range(len(dataset)-time_step-1):\n",
    "        a = dataset[i:(i+time_step), 0]    \n",
    "        dataX.append(a)\n",
    "        dataY.append(dataset[i + time_step, 0])\n",
    "        return numpy.array(dataX), numpy.array(dataY)"
   ]
  },
  {
   "cell_type": "code",
   "execution_count": 21,
   "id": "394eab24",
   "metadata": {},
   "outputs": [],
   "source": [
    "time_step = 100\n",
    "X_train, y_train = create_dataset(train_data, time_step)\n",
    "X_test, ytest = create_dataset(test_data, time_step)"
   ]
  },
  {
   "cell_type": "code",
   "execution_count": 22,
   "id": "899e679d",
   "metadata": {},
   "outputs": [
    {
     "name": "stdout",
     "output_type": "stream",
     "text": [
      "(1, 100)\n",
      "(1,)\n"
     ]
    },
    {
     "data": {
      "text/plain": [
       "(None, None)"
      ]
     },
     "execution_count": 22,
     "metadata": {},
     "output_type": "execute_result"
    }
   ],
   "source": [
    "print(X_train.shape), print(y_train.shape)"
   ]
  },
  {
   "cell_type": "code",
   "execution_count": 23,
   "id": "5e8aaa28",
   "metadata": {},
   "outputs": [
    {
     "name": "stdout",
     "output_type": "stream",
     "text": [
      "(1, 100)\n",
      "(1,)\n"
     ]
    },
    {
     "data": {
      "text/plain": [
       "(None, None)"
      ]
     },
     "execution_count": 23,
     "metadata": {},
     "output_type": "execute_result"
    }
   ],
   "source": [
    "print(X_test.shape), print(ytest.shape)"
   ]
  },
  {
   "cell_type": "code",
   "execution_count": 24,
   "id": "24098d8a",
   "metadata": {},
   "outputs": [],
   "source": [
    "# reshape input to be [samples, time steps, features] which is required for LSTM\n",
    "X_train =X_train.reshape(X_train.shape[0],X_train.shape[1] , 1)\n",
    "X_test = X_test.reshape(X_test.shape[0],X_test.shape[1] , 1)"
   ]
  },
  {
   "cell_type": "code",
   "execution_count": 25,
   "id": "da5c67eb",
   "metadata": {},
   "outputs": [],
   "source": [
    "### Create the Stacked LSTM model\n",
    "from tensorflow.keras.models import Sequential\n",
    "from tensorflow.keras.layers import Dense\n",
    "from tensorflow.keras.layers import LSTM"
   ]
  },
  {
   "cell_type": "code",
   "execution_count": 26,
   "id": "063f4d5f",
   "metadata": {},
   "outputs": [],
   "source": [
    "model=Sequential()\n",
    "model.add(LSTM(50,return_sequences=True,input_shape=(100,1)))\n",
    "model.add(LSTM(50,return_sequences=True))\n",
    "model.add(LSTM(50))\n",
    "model.add(Dense(1))\n",
    "model.compile(loss='mean_squared_error',optimizer='adam')"
   ]
  },
  {
   "cell_type": "code",
   "execution_count": 27,
   "id": "f259d35e",
   "metadata": {},
   "outputs": [
    {
     "name": "stdout",
     "output_type": "stream",
     "text": [
      "Model: \"sequential_1\"\n",
      "_________________________________________________________________\n",
      " Layer (type)                Output Shape              Param #   \n",
      "=================================================================\n",
      " lstm_3 (LSTM)               (None, 100, 50)           10400     \n",
      "                                                                 \n",
      " lstm_4 (LSTM)               (None, 100, 50)           20200     \n",
      "                                                                 \n",
      " lstm_5 (LSTM)               (None, 50)                20200     \n",
      "                                                                 \n",
      " dense_1 (Dense)             (None, 1)                 51        \n",
      "                                                                 \n",
      "=================================================================\n",
      "Total params: 50,851\n",
      "Trainable params: 50,851\n",
      "Non-trainable params: 0\n",
      "_________________________________________________________________\n"
     ]
    }
   ],
   "source": [
    "model.summary()"
   ]
  },
  {
   "cell_type": "code",
   "execution_count": 28,
   "id": "0e3ce7a3",
   "metadata": {},
   "outputs": [
    {
     "name": "stdout",
     "output_type": "stream",
     "text": [
      "Epoch 1/100\n",
      "1/1 [==============================] - 15s 15s/step - loss: 0.8437 - val_loss: 0.0887\n",
      "Epoch 2/100\n",
      "1/1 [==============================] - 0s 284ms/step - loss: 0.6970 - val_loss: 0.0638\n",
      "Epoch 3/100\n",
      "1/1 [==============================] - 0s 278ms/step - loss: 0.5658 - val_loss: 0.0416\n",
      "Epoch 4/100\n",
      "1/1 [==============================] - 0s 274ms/step - loss: 0.4390 - val_loss: 0.0219\n",
      "Epoch 5/100\n",
      "1/1 [==============================] - 0s 281ms/step - loss: 0.3115 - val_loss: 0.0064\n",
      "Epoch 6/100\n",
      "1/1 [==============================] - 0s 267ms/step - loss: 0.1841 - val_loss: 4.2361e-05\n",
      "Epoch 7/100\n",
      "1/1 [==============================] - 0s 275ms/step - loss: 0.0691 - val_loss: 0.0142\n",
      "Epoch 8/100\n",
      "1/1 [==============================] - 0s 288ms/step - loss: 0.0021 - val_loss: 0.0652\n",
      "Epoch 9/100\n",
      "1/1 [==============================] - 0s 300ms/step - loss: 0.0432 - val_loss: 0.1130\n",
      "Epoch 10/100\n",
      "1/1 [==============================] - 0s 277ms/step - loss: 0.1110 - val_loss: 0.1137\n",
      "Epoch 11/100\n",
      "1/1 [==============================] - 0s 287ms/step - loss: 0.0977 - val_loss: 0.0868\n",
      "Epoch 12/100\n",
      "1/1 [==============================] - 0s 284ms/step - loss: 0.0493 - val_loss: 0.0565\n",
      "Epoch 13/100\n",
      "1/1 [==============================] - 0s 284ms/step - loss: 0.0122 - val_loss: 0.0337\n",
      "Epoch 14/100\n",
      "1/1 [==============================] - 0s 284ms/step - loss: 4.0967e-05 - val_loss: 0.0195\n",
      "Epoch 15/100\n",
      "1/1 [==============================] - 0s 284ms/step - loss: 0.0060 - val_loss: 0.0119\n",
      "Epoch 16/100\n",
      "1/1 [==============================] - 0s 276ms/step - loss: 0.0188 - val_loss: 0.0083\n",
      "Epoch 17/100\n",
      "1/1 [==============================] - 0s 294ms/step - loss: 0.0301 - val_loss: 0.0071\n",
      "Epoch 18/100\n",
      "1/1 [==============================] - 0s 297ms/step - loss: 0.0360 - val_loss: 0.0077\n",
      "Epoch 19/100\n",
      "1/1 [==============================] - 0s 295ms/step - loss: 0.0356 - val_loss: 0.0100\n",
      "Epoch 20/100\n",
      "1/1 [==============================] - 0s 283ms/step - loss: 0.0301 - val_loss: 0.0141\n",
      "Epoch 21/100\n",
      "1/1 [==============================] - 0s 277ms/step - loss: 0.0215 - val_loss: 0.0206\n",
      "Epoch 22/100\n",
      "1/1 [==============================] - 0s 299ms/step - loss: 0.0123 - val_loss: 0.0297\n",
      "Epoch 23/100\n",
      "1/1 [==============================] - 0s 283ms/step - loss: 0.0048 - val_loss: 0.0413\n",
      "Epoch 24/100\n",
      "1/1 [==============================] - 0s 291ms/step - loss: 6.2655e-04 - val_loss: 0.0548\n",
      "Epoch 25/100\n",
      "1/1 [==============================] - 0s 324ms/step - loss: 3.3096e-04 - val_loss: 0.0685\n",
      "Epoch 26/100\n",
      "1/1 [==============================] - 0s 292ms/step - loss: 0.0032 - val_loss: 0.0804\n",
      "Epoch 27/100\n",
      "1/1 [==============================] - 0s 277ms/step - loss: 0.0073 - val_loss: 0.0885\n",
      "Epoch 28/100\n",
      "1/1 [==============================] - 0s 275ms/step - loss: 0.0105 - val_loss: 0.0916\n",
      "Epoch 29/100\n",
      "1/1 [==============================] - 0s 285ms/step - loss: 0.0114 - val_loss: 0.0896\n",
      "Epoch 30/100\n",
      "1/1 [==============================] - 0s 284ms/step - loss: 0.0098 - val_loss: 0.0837\n",
      "Epoch 31/100\n",
      "1/1 [==============================] - 0s 301ms/step - loss: 0.0067 - val_loss: 0.0755\n",
      "Epoch 32/100\n",
      "1/1 [==============================] - 0s 299ms/step - loss: 0.0034 - val_loss: 0.0666\n",
      "Epoch 33/100\n",
      "1/1 [==============================] - 0s 317ms/step - loss: 0.0011 - val_loss: 0.0583\n",
      "Epoch 34/100\n",
      "1/1 [==============================] - 0s 289ms/step - loss: 3.9249e-05 - val_loss: 0.0512\n",
      "Epoch 35/100\n",
      "1/1 [==============================] - 0s 300ms/step - loss: 3.0243e-04 - val_loss: 0.0458\n",
      "Epoch 36/100\n",
      "1/1 [==============================] - 0s 284ms/step - loss: 0.0014 - val_loss: 0.0421\n",
      "Epoch 37/100\n",
      "1/1 [==============================] - 0s 284ms/step - loss: 0.0026 - val_loss: 0.0401\n",
      "Epoch 38/100\n",
      "1/1 [==============================] - 0s 276ms/step - loss: 0.0036 - val_loss: 0.0396\n",
      "Epoch 39/100\n",
      "1/1 [==============================] - 0s 282ms/step - loss: 0.0039 - val_loss: 0.0405\n",
      "Epoch 40/100\n",
      "1/1 [==============================] - 0s 284ms/step - loss: 0.0036 - val_loss: 0.0428\n",
      "Epoch 41/100\n",
      "1/1 [==============================] - 0s 300ms/step - loss: 0.0028 - val_loss: 0.0462\n",
      "Epoch 42/100\n",
      "1/1 [==============================] - 0s 291ms/step - loss: 0.0018 - val_loss: 0.0505\n",
      "Epoch 43/100\n",
      "1/1 [==============================] - 0s 277ms/step - loss: 8.3023e-04 - val_loss: 0.0555\n",
      "Epoch 44/100\n",
      "1/1 [==============================] - 0s 277ms/step - loss: 1.9404e-04 - val_loss: 0.0608\n",
      "Epoch 45/100\n",
      "1/1 [==============================] - 0s 284ms/step - loss: 9.6301e-07 - val_loss: 0.0658\n",
      "Epoch 46/100\n",
      "1/1 [==============================] - 0s 276ms/step - loss: 2.1199e-04 - val_loss: 0.0701\n",
      "Epoch 47/100\n",
      "1/1 [==============================] - 0s 283ms/step - loss: 6.5476e-04 - val_loss: 0.0732\n",
      "Epoch 48/100\n",
      "1/1 [==============================] - 0s 284ms/step - loss: 0.0011 - val_loss: 0.0748\n",
      "Epoch 49/100\n",
      "1/1 [==============================] - 0s 332ms/step - loss: 0.0013 - val_loss: 0.0748\n",
      "Epoch 50/100\n",
      "1/1 [==============================] - 0s 299ms/step - loss: 0.0013 - val_loss: 0.0734\n",
      "Epoch 51/100\n",
      "1/1 [==============================] - 0s 284ms/step - loss: 0.0010 - val_loss: 0.0709\n",
      "Epoch 52/100\n",
      "1/1 [==============================] - 0s 291ms/step - loss: 6.2980e-04 - val_loss: 0.0678\n",
      "Epoch 53/100\n",
      "1/1 [==============================] - 0s 283ms/step - loss: 2.6557e-04 - val_loss: 0.0645\n",
      "Epoch 54/100\n",
      "1/1 [==============================] - 0s 284ms/step - loss: 4.5671e-05 - val_loss: 0.0613\n",
      "Epoch 55/100\n",
      "1/1 [==============================] - 0s 291ms/step - loss: 6.1713e-06 - val_loss: 0.0586\n",
      "Epoch 56/100\n",
      "1/1 [==============================] - 0s 282ms/step - loss: 1.1138e-04 - val_loss: 0.0566\n",
      "Epoch 57/100\n",
      "1/1 [==============================] - 0s 317ms/step - loss: 2.8203e-04 - val_loss: 0.0554\n",
      "Epoch 58/100\n",
      "1/1 [==============================] - 0s 276ms/step - loss: 4.3238e-04 - val_loss: 0.0549\n",
      "Epoch 59/100\n",
      "1/1 [==============================] - 0s 283ms/step - loss: 5.0134e-04 - val_loss: 0.0553\n",
      "Epoch 60/100\n",
      "1/1 [==============================] - 0s 275ms/step - loss: 4.6878e-04 - val_loss: 0.0563\n",
      "Epoch 61/100\n",
      "1/1 [==============================] - 0s 287ms/step - loss: 3.5524e-04 - val_loss: 0.0578\n",
      "Epoch 62/100\n",
      "1/1 [==============================] - 0s 280ms/step - loss: 2.0787e-04 - val_loss: 0.0597\n",
      "Epoch 63/100\n",
      "1/1 [==============================] - 0s 291ms/step - loss: 7.9626e-05 - val_loss: 0.0619\n",
      "Epoch 64/100\n",
      "1/1 [==============================] - 0s 282ms/step - loss: 8.9890e-06 - val_loss: 0.0639\n",
      "Epoch 65/100\n",
      "1/1 [==============================] - 0s 316ms/step - loss: 7.3670e-06 - val_loss: 0.0657\n",
      "Epoch 66/100\n",
      "1/1 [==============================] - 0s 282ms/step - loss: 5.8159e-05 - val_loss: 0.0671\n",
      "Epoch 67/100\n",
      "1/1 [==============================] - 0s 291ms/step - loss: 1.2699e-04 - val_loss: 0.0679\n",
      "Epoch 68/100\n",
      "1/1 [==============================] - 0s 276ms/step - loss: 1.7800e-04 - val_loss: 0.0681\n",
      "Epoch 69/100\n",
      "1/1 [==============================] - 0s 283ms/step - loss: 1.8891e-04 - val_loss: 0.0677\n",
      "Epoch 70/100\n",
      "1/1 [==============================] - 0s 292ms/step - loss: 1.5816e-04 - val_loss: 0.0669\n",
      "Epoch 71/100\n",
      "1/1 [==============================] - 0s 291ms/step - loss: 1.0224e-04 - val_loss: 0.0657\n",
      "Epoch 72/100\n",
      "1/1 [==============================] - 0s 268ms/step - loss: 4.5554e-05 - val_loss: 0.0643\n",
      "Epoch 73/100\n",
      "1/1 [==============================] - 0s 299ms/step - loss: 8.7343e-06 - val_loss: 0.0630\n",
      "Epoch 74/100\n",
      "1/1 [==============================] - 0s 307ms/step - loss: 6.4317e-07 - val_loss: 0.0619\n",
      "Epoch 75/100\n",
      "1/1 [==============================] - 0s 284ms/step - loss: 1.6853e-05 - val_loss: 0.0610\n",
      "Epoch 76/100\n",
      "1/1 [==============================] - 0s 289ms/step - loss: 4.3941e-05 - val_loss: 0.0605\n",
      "Epoch 77/100\n",
      "1/1 [==============================] - 0s 284ms/step - loss: 6.6653e-05 - val_loss: 0.0603\n",
      "Epoch 78/100\n",
      "1/1 [==============================] - 0s 284ms/step - loss: 7.4480e-05 - val_loss: 0.0605\n",
      "Epoch 79/100\n",
      "1/1 [==============================] - 0s 276ms/step - loss: 6.5132e-05 - val_loss: 0.0611\n",
      "Epoch 80/100\n",
      "1/1 [==============================] - 0s 274ms/step - loss: 4.4065e-05 - val_loss: 0.0618\n",
      "Epoch 81/100\n"
     ]
    },
    {
     "name": "stdout",
     "output_type": "stream",
     "text": [
      "1/1 [==============================] - 0s 284ms/step - loss: 2.0894e-05 - val_loss: 0.0627\n",
      "Epoch 82/100\n",
      "1/1 [==============================] - 0s 307ms/step - loss: 4.6698e-06 - val_loss: 0.0635\n",
      "Epoch 83/100\n",
      "1/1 [==============================] - 0s 283ms/step - loss: 7.9082e-08 - val_loss: 0.0643\n",
      "Epoch 84/100\n",
      "1/1 [==============================] - 0s 283ms/step - loss: 6.0701e-06 - val_loss: 0.0649\n",
      "Epoch 85/100\n",
      "1/1 [==============================] - 0s 299ms/step - loss: 1.7192e-05 - val_loss: 0.0653\n",
      "Epoch 86/100\n",
      "1/1 [==============================] - 0s 274ms/step - loss: 2.6707e-05 - val_loss: 0.0654\n",
      "Epoch 87/100\n",
      "1/1 [==============================] - 0s 268ms/step - loss: 2.9817e-05 - val_loss: 0.0653\n",
      "Epoch 88/100\n",
      "1/1 [==============================] - 0s 268ms/step - loss: 2.5530e-05 - val_loss: 0.0649\n",
      "Epoch 89/100\n",
      "1/1 [==============================] - 0s 292ms/step - loss: 1.6471e-05 - val_loss: 0.0644\n",
      "Epoch 90/100\n",
      "1/1 [==============================] - 0s 297ms/step - loss: 7.0492e-06 - val_loss: 0.0639\n",
      "Epoch 91/100\n",
      "1/1 [==============================] - 0s 274ms/step - loss: 1.1138e-06 - val_loss: 0.0633\n",
      "Epoch 92/100\n",
      "1/1 [==============================] - 0s 276ms/step - loss: 2.7263e-07 - val_loss: 0.0628\n",
      "Epoch 93/100\n",
      "1/1 [==============================] - 0s 283ms/step - loss: 3.5449e-06 - val_loss: 0.0625\n",
      "Epoch 94/100\n",
      "1/1 [==============================] - 0s 268ms/step - loss: 8.2709e-06 - val_loss: 0.0623\n",
      "Epoch 95/100\n",
      "1/1 [==============================] - 0s 279ms/step - loss: 1.1635e-05 - val_loss: 0.0623\n",
      "Epoch 96/100\n",
      "1/1 [==============================] - 0s 269ms/step - loss: 1.1988e-05 - val_loss: 0.0624\n",
      "Epoch 97/100\n",
      "1/1 [==============================] - 0s 284ms/step - loss: 9.4088e-06 - val_loss: 0.0627\n",
      "Epoch 98/100\n",
      "1/1 [==============================] - 0s 307ms/step - loss: 5.3625e-06 - val_loss: 0.0631\n",
      "Epoch 99/100\n",
      "1/1 [==============================] - 0s 298ms/step - loss: 1.7848e-06 - val_loss: 0.0634\n",
      "Epoch 100/100\n",
      "1/1 [==============================] - 0s 290ms/step - loss: 7.5437e-08 - val_loss: 0.0638\n"
     ]
    },
    {
     "data": {
      "text/plain": [
       "<keras.callbacks.History at 0x1ed21e24550>"
      ]
     },
     "execution_count": 28,
     "metadata": {},
     "output_type": "execute_result"
    }
   ],
   "source": [
    "model.fit(X_train,y_train,validation_data=(X_test,ytest),epochs=100,batch_size=64,verbose=1)"
   ]
  },
  {
   "cell_type": "code",
   "execution_count": 29,
   "id": "17b8de53",
   "metadata": {},
   "outputs": [
    {
     "name": "stdout",
     "output_type": "stream",
     "text": [
      "1/1 [==============================] - 2s 2s/step\n",
      "1/1 [==============================] - 0s 81ms/step\n"
     ]
    }
   ],
   "source": [
    "### Lets Do the prediction and check performance metrics\n",
    "train_predict=model.predict(X_train)\n",
    "test_predict=model.predict(X_test)"
   ]
  },
  {
   "cell_type": "code",
   "execution_count": 30,
   "id": "5a28ba2e",
   "metadata": {},
   "outputs": [],
   "source": [
    "##Transformback to original form\n",
    "train_predict=scaler.inverse_transform(train_predict)\n",
    "test_predict=scaler.inverse_transform(test_predict)"
   ]
  },
  {
   "cell_type": "code",
   "execution_count": 31,
   "id": "c6f4a4ed",
   "metadata": {},
   "outputs": [
    {
     "data": {
      "text/plain": [
       "293.5056507384855"
      ]
     },
     "execution_count": 31,
     "metadata": {},
     "output_type": "execute_result"
    }
   ],
   "source": [
    "### Calculate RMSE performance metrics\n",
    "import math\n",
    "from sklearn.metrics import mean_squared_error\n",
    "math.sqrt(mean_squared_error(y_train,train_predict))"
   ]
  },
  {
   "cell_type": "code",
   "execution_count": 32,
   "id": "d4aec45b",
   "metadata": {},
   "outputs": [
    {
     "data": {
      "text/plain": [
       "221.45504331900403"
      ]
     },
     "execution_count": 32,
     "metadata": {},
     "output_type": "execute_result"
    }
   ],
   "source": [
    "### Test Data RMSE\n",
    "math.sqrt(mean_squared_error(ytest,test_predict))"
   ]
  },
  {
   "cell_type": "code",
   "execution_count": 35,
   "id": "a8a2b5d7",
   "metadata": {},
   "outputs": [
    {
     "data": {
      "image/png": "[encoded data removed]",
      "text/plain": [
       "<Figure size 432x288 with 1 Axes>"
      ]
     },
     "metadata": {
      "needs_background": "light"
     },
     "output_type": "display_data"
    }
   ],
   "source": [
    "### Visualise the Predictions\n",
    "look_back = 100\n",
    "train_num_pyredict_plot = np.empty_like(smp)\n",
    "train_num_pyredict_plot[:, :] = np.nan\n",
    "train_num_pyredict_plot[look_back : len(train_predict) + look_back, :] = train_predict\n",
    "test_predict_plot = np.empty_like(smp)\n",
    "test_predict_plot[:, :] = np.nan\n",
    "test_predict_plot[len(train_predict) + (look_back * 2) + 1 : len(smp) - 1, :] = test_predict\n",
    "plt.plot(scaler.inverse_transform(smp))\n",
    "plt.plot(train_num_pyredict_plot)\n",
    "plt.plot(test_predict_plot)\n",
    "plt.show()"
   ]
  },
  {
   "cell_type": "code",
   "execution_count": 37,
   "id": "e639db1d",
   "metadata": {},
   "outputs": [],
   "source": [
    "### Future Prediction Model\n",
    "x_inum_pyut=test_data[307:].reshape(1, -1)\n",
    "x_inum_pyut.shape\n",
    "temp_inum_pyut = list(x_inum_pyut)\n",
    "temp_inum_pyut = temp_inum_pyut[0].tolist()\n",
    "temp_inum_pyut = list(x_inum_pyut)\n",
    "temp_inum_pyut = temp_inum_pyut[0].tolist()"
   ]
  },
  {
   "cell_type": "code",
   "execution_count": 39,
   "id": "4f3a6f8e",
   "metadata": {},
   "outputs": [
    {
     "data": {
      "text/plain": [
       "[<matplotlib.lines.Line2D at 0x1ed2e82db50>]"
      ]
     },
     "execution_count": 39,
     "metadata": {},
     "output_type": "execute_result"
    },
    {
     "data": {
      "image/png": "[encoded data removed]",
      "text/plain": [
       "<Figure size 432x288 with 1 Axes>"
      ]
     },
     "metadata": {
      "needs_background": "light"
     },
     "output_type": "display_data"
    }
   ],
   "source": [
    "day_new = np.arange(1, 101)\n",
    "day_pred = np.arange(101, 131)\n",
    "plt.plot(day_new, scaler.inverse_transform(smp[1935 : ]))"
   ]
  },
  {
   "cell_type": "code",
   "execution_count": null,
   "id": "90ccec60",
   "metadata": {},
   "outputs": [],
   "source": []
  }
 ],
 "metadata": {
  "kernelspec": {
   "display_name": "Python 3 (ipykernel)",
   "language": "python",
   "name": "python3"
  },
  "language_info": {
   "codemirror_mode": {
    "name": "ipython",
    "version": 3
   },
   "file_extension": ".py",
   "mimetype": "text/x-python",
   "name": "python",
   "nbconvert_exporter": "python",
   "pygments_lexer": "ipython3",
   "version": "3.9.12"
  }
 },
 "nbformat": 4,
 "nbformat_minor": 5
}
